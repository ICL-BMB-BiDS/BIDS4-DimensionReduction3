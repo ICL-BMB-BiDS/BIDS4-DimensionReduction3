{
 "cells": [
  {
   "cell_type": "markdown",
   "metadata": {},
   "source": [
    "# Dimensionality Reduction 3"
   ]
  },
  {
   "cell_type": "markdown",
   "metadata": {},
   "source": [
    "Learning objectives\n",
    "1. Apply t-SNE and UMAP to different data sets and interpret the outputs\n",
    "2. Learn how to visualise the model outputs\n",
    "3. Explore differences based on chosen parameters\n",
    "4. Interpret the results and compare them to other dimension reduction methods"
   ]
  },
  {
   "cell_type": "markdown",
   "metadata": {},
   "source": [
    "UMAP is implemented in the `umap-learn` package\n",
    "\n",
    "Install it via ```pip install umap-learn```"
   ]
  },
  {
   "cell_type": "code",
   "execution_count": null,
   "metadata": {},
   "outputs": [],
   "source": [
    "import pandas as pd \n",
    "import numpy as np\n",
    "import matplotlib.pyplot as plt\n",
    "import seaborn as sns\n",
    "from sklearn.decomposition import PCA\n",
    "from sklearn.manifold import TSNE\n",
    "from sklearn.preprocessing import StandardScaler\n",
    "import umap"
   ]
  },
  {
   "cell_type": "markdown",
   "metadata": {},
   "source": [
    "## Load in datasets\n",
    "Read in the omics datasets using the pandas [read_excel()](https://pandas.pydata.org/docs/reference/api/pandas.read_excel.html) function. For this example we will be using IBD metagenomic data, summarised at the species level."
   ]
  },
  {
   "cell_type": "code",
   "execution_count": null,
   "metadata": {},
   "outputs": [],
   "source": [
    "IBD_microbiome = pd.read_excel(\"../Data/IBD_microbiome_species.xlsx\")"
   ]
  },
  {
   "cell_type": "code",
   "execution_count": null,
   "metadata": {},
   "outputs": [],
   "source": [
    "IBD_microbiome.head()"
   ]
  },
  {
   "cell_type": "markdown",
   "metadata": {},
   "source": [
    "We can see the data contains 4 metadata columns: gender, age, inflammatory bowel disease (IBD) status, and IBD type. "
   ]
  },
  {
   "cell_type": "code",
   "execution_count": null,
   "metadata": {},
   "outputs": [],
   "source": [
    "# look at the number of IBD vs non-IBD patients\n",
    "IBD_microbiome[\"IBD\"].value_counts()"
   ]
  },
  {
   "cell_type": "markdown",
   "metadata": {},
   "source": [
    "### Scaling, exploratory analysis using PCA, and outlier detection"
   ]
  },
  {
   "cell_type": "code",
   "execution_count": null,
   "metadata": {},
   "outputs": [],
   "source": [
    "# Standard scale the data to have mean = 0 and SD = 1\n",
    "IBD_microbiome_scaled = StandardScaler().fit_transform(IBD_microbiome.iloc[:, 4:])"
   ]
  },
  {
   "cell_type": "code",
   "execution_count": null,
   "metadata": {},
   "outputs": [],
   "source": [
    "# perform PCA to perliminarily visualise the data and detect outliers\n",
    "PCA_IBD = PCA(n_components=4).fit_transform(IBD_microbiome_scaled)"
   ]
  },
  {
   "cell_type": "code",
   "execution_count": null,
   "metadata": {},
   "outputs": [],
   "source": [
    "PCA_df = pd.DataFrame(PCA_IBD, index=IBD_microbiome.index)\n",
    "PCA_df[\"IBD_type\"] = IBD_microbiome[\"IBD_type\"]\n",
    "PCA_df"
   ]
  },
  {
   "cell_type": "code",
   "execution_count": null,
   "metadata": {},
   "outputs": [],
   "source": [
    "# plot the first 4 PCA components against each other\n",
    "p = sns.pairplot(PCA_df, hue=\"IBD_type\")\n",
    "plt.show()"
   ]
  },
  {
   "cell_type": "markdown",
   "metadata": {},
   "source": [
    "There are a number of extreme outliers we must remove here. To do this, we will visually inspect the PCA scores and remove those samples with very high absolute values across components 1-4. "
   ]
  },
  {
   "cell_type": "code",
   "execution_count": null,
   "metadata": {},
   "outputs": [],
   "source": [
    "# Loop through each PCA component scores\n",
    "for i in range(0 ,4):\n",
    "    print(\"Component \" + str(i+1))\n",
    "    # order the scores from highest to lowest absolute value and print the top 10\n",
    "    # the row index (sample) is the dictionary key, and the PC score is the value\n",
    "    print(PCA_df[i].sort_values(key=abs, ascending=False)[0:10].to_dict())"
   ]
  },
  {
   "cell_type": "markdown",
   "metadata": {},
   "source": [
    "The outliers are present in samples (row indexes) 260, 339, 346, 312, and 165. We will drop these from the data:"
   ]
  },
  {
   "cell_type": "code",
   "execution_count": null,
   "metadata": {},
   "outputs": [],
   "source": [
    "# drop the row indexes containing outlier samples\n",
    "IBD_microbiome = IBD_microbiome.drop([260, 339, 346, 312, 165])"
   ]
  },
  {
   "cell_type": "code",
   "execution_count": null,
   "metadata": {},
   "outputs": [],
   "source": [
    "IBD_microbiome_scaled = StandardScaler().fit_transform(IBD_microbiome.iloc[:, 4:])\n",
    "PCA_IBD = PCA(n_components=4).fit_transform(IBD_microbiome_scaled)\n",
    "PCA_df = pd.DataFrame(PCA_IBD, index=IBD_microbiome.index)\n",
    "PCA_df[\"IBD_type\"] = IBD_microbiome[\"IBD_type\"]\n",
    "\n",
    "# plot the first 4 PCA components against each other\n",
    "p = sns.pairplot(PCA_df, hue=\"IBD_type\")\n",
    "plt.show()"
   ]
  },
  {
   "cell_type": "markdown",
   "metadata": {},
   "source": [
    "The data looks a bit better but there are still some extreme outliers, let's repeat the outlier detection process again:"
   ]
  },
  {
   "cell_type": "code",
   "execution_count": null,
   "metadata": {},
   "outputs": [],
   "source": [
    "for i in range(0 ,4):\n",
    "    print(PCA_df[i].sort_values(key=abs, ascending=False)[0:10].to_dict())"
   ]
  },
  {
   "cell_type": "code",
   "execution_count": null,
   "metadata": {},
   "outputs": [],
   "source": [
    "IBD_microbiome = IBD_microbiome.drop([336, 335, 208, 369, 199, 315, 299])"
   ]
  },
  {
   "cell_type": "code",
   "execution_count": null,
   "metadata": {},
   "outputs": [],
   "source": [
    "IBD_microbiome_scaled = StandardScaler().fit_transform(IBD_microbiome.iloc[:, 4:])\n",
    "PCA_IBD = PCA(n_components=4).fit_transform(IBD_microbiome_scaled)\n",
    "PCA_df = pd.DataFrame(PCA_IBD, index=IBD_microbiome.index)\n",
    "PCA_df[\"IBD_type\"] = IBD_microbiome[\"IBD_type\"]\n",
    "\n",
    "# plot the first 4 PCA components against each other\n",
    "p = sns.pairplot(PCA_df, hue=\"IBD_type\")\n",
    "plt.show()"
   ]
  },
  {
   "cell_type": "markdown",
   "metadata": {},
   "source": [
    "The extreme outliers have now been removed, so we can move on to appling t-SNE"
   ]
  },
  {
   "cell_type": "markdown",
   "metadata": {},
   "source": [
    "## T-distributed Stochastic Neighbor Embedding (t-SNE)\n",
    "t-SNE is a tool to visualize high-dimensional data. It converts similarities between data points to joint probabilities and tries to minimize the Kullback-Leibler divergence between the joint probabilities of the low-dimensional embedding and the high-dimensional data. t-SNE has a cost function that is not convex, i.e. with different initializations we can get different results.\n",
    "\n",
    "t-SNE can be perfomed using the sklearn.[TSNE()](https://scikit-learn.org/stable/modules/generated/sklearn.manifold.TSNE.html) function. We apply the fit_transform function to the TSNE class to create an embedding of the metagenomic data."
   ]
  },
  {
   "cell_type": "code",
   "execution_count": null,
   "metadata": {},
   "outputs": [],
   "source": [
    "# perfrom t-SNE with default parameters\n",
    "tsne_embedding = TSNE(n_components=2, learning_rate='auto', init='random').fit_transform(IBD_microbiome_scaled)"
   ]
  },
  {
   "cell_type": "code",
   "execution_count": null,
   "metadata": {},
   "outputs": [],
   "source": [
    "sns.set_style(\"ticks\")\n",
    "sns.set_context(\"notebook\")\n",
    "sns.set_palette(\"Paired\")\n",
    "plt.figure(figsize=(8, 8))\n",
    "\n",
    "p = sns.scatterplot(x=tsne_embedding[:, 0],\n",
    " y=tsne_embedding[:, 1], \n",
    " hue=IBD_microbiome[\"IBD_type\"])\n",
    "\n",
    "p.set_xlabel(\"Dim 1\")\n",
    "p.set_ylabel(\"Dim 2\")\n",
    "\n",
    "plt.show()"
   ]
  },
  {
   "cell_type": "markdown",
   "metadata": {},
   "source": [
    "### t-SNE parameters"
   ]
  },
  {
   "cell_type": "markdown",
   "metadata": {},
   "source": [
    "There are 4 key [parameters](https://scikit-learn.org/stable/modules/generated/sklearn.manifold.TSNE.html) that need tuning when performing t-SNE. These are [taken from sklearn]:\n",
    "1. `n_components`: similar to PCA, NNMF, and MDS, we need to manually specify the number of components\n",
    "2. `perplexity`: The perplexity is related to the number of nearest neighbors that is used in other manifold learning algorithms. Larger datasets usually require a larger perplexity. Consider selecting a value between 5 and 50. Different values can result in significantly different results.\n",
    "3. `early_exaggeration`: Controls how tight natural clusters in the original space are in the embedded space and how much space will be between them. For larger values, the space between natural clusters will be larger in the embedded space. Again, the choice of this parameter is not very critical. If the cost function increases during initial optimization, the early exaggeration factor or the learning rate might be too high.\n",
    "4. `learning_rate`: The learning rate for t-SNE is usually in the range [10.0, 1000.0]. If the learning rate is too high, the data may look like a ‘ball’ with any point approximately equidistant from its nearest neighbours. If the learning rate is too low, most points may look compressed in a dense cloud with few outliers. If the cost function gets stuck in a bad local minimum increasing the learning rate may help."
   ]
  },
  {
   "cell_type": "markdown",
   "metadata": {},
   "source": [
    "Let's test some of these parameters and see what effects they have on the visualisation of the data:"
   ]
  },
  {
   "cell_type": "markdown",
   "metadata": {},
   "source": [
    "#### Perplexity - n neighbours"
   ]
  },
  {
   "cell_type": "code",
   "execution_count": null,
   "metadata": {},
   "outputs": [],
   "source": [
    "fig, (ax1, ax2, ax3) = plt.subplots(1, 3, figsize=(15, 5))\n",
    "\n",
    "axs = [ax1, ax2, ax3]\n",
    "\n",
    "# set some perplexity values we want to test\n",
    "perplexity_vals = [2, 25, 50]\n",
    "\n",
    "# loop over each perplexity value and perform t-SNE with this value \n",
    "for ax, i in enumerate(perplexity_vals):\n",
    "    tsne_embedding = TSNE(n_components=2, learning_rate='auto', init='random', perplexity=i).fit_transform(IBD_microbiome_scaled)    \n",
    "\n",
    "    # plot the first two components using a scatterplot\n",
    "    sns.scatterplot(x=tsne_embedding[:, 0], y=tsne_embedding[:, 1], hue=IBD_microbiome[\"IBD_type\"], ax=axs[ax])\n",
    "    axs[ax].set_title(\"Perplexity=\"+str(i))\n",
    "\n",
    "plt.tight_layout()\n",
    "plt.show()"
   ]
  },
  {
   "cell_type": "markdown",
   "metadata": {},
   "source": [
    "#### Learning rate"
   ]
  },
  {
   "cell_type": "code",
   "execution_count": null,
   "metadata": {},
   "outputs": [],
   "source": [
    "fig, (ax1, ax2, ax3, ax4) = plt.subplots(1, 4, figsize=(15, 5))\n",
    "\n",
    "axs = [ax1, ax2, ax3, ax4]\n",
    "\n",
    "# set some  values we want to test\n",
    "learningrate_vals = [50, 100, 800, 1000]\n",
    "\n",
    "# loop over each value and perform t-SNE with this value \n",
    "for ax, i in enumerate(learningrate_vals):\n",
    "    tsne_embedding = TSNE(n_components=2, init='random', learning_rate=i).fit_transform(IBD_microbiome_scaled)    \n",
    "\n",
    "    # plot the first two components using a scatterplot\n",
    "    sns.scatterplot(x=tsne_embedding[:, 0], y=tsne_embedding[:, 1], hue=IBD_microbiome[\"IBD_type\"], ax=axs[ax])\n",
    "    axs[ax].set_title(\"Learning rate=\"+str(i))\n",
    "\n",
    "plt.tight_layout()\n",
    "plt.show()"
   ]
  },
  {
   "cell_type": "markdown",
   "metadata": {},
   "source": [
    "Have a go at changing the learning rate and perplexity parameters to visualise the data in the scatter plot below. What is the optimal combination of parameters you can find?\n",
    "\n",
    "Note: unlike PCA, in t-SNE there are multiple solutions, so the output will be different each time"
   ]
  },
  {
   "cell_type": "code",
   "execution_count": null,
   "metadata": {},
   "outputs": [],
   "source": [
    "tsne_embedding = TSNE(n_components=2, init='random', learning_rate=500, perplexity=20).fit_transform(IBD_microbiome_scaled)    \n",
    "\n",
    "plt.figure(figsize=(8, 8))\n",
    "p = sns.scatterplot(x=tsne_embedding[:, 0],\n",
    " y=tsne_embedding[:, 1], \n",
    " hue=IBD_microbiome[\"IBD_type\"], \n",
    " s=150, \n",
    " alpha=0.7)\n",
    "\n",
    "p.set_xlabel(\"Dim 1\")\n",
    "p.set_ylabel(\"Dim 2\")\n",
    "plt.title(\"t-SNE of IBD microbiome data\")\n",
    "\n",
    "plt.show()"
   ]
  },
  {
   "cell_type": "markdown",
   "metadata": {},
   "source": [
    "### Using PCA to reduce dimensionality prior to t-SNE\n",
    "It is highly recommended to run PCA before t-SNE to reduce computation time, particularly on very high dimensional datasets. 30-100 components is ideal. "
   ]
  },
  {
   "cell_type": "code",
   "execution_count": null,
   "metadata": {},
   "outputs": [],
   "source": [
    "# Run 50 component PCA on the scaled data\n",
    "PCA_IBD = PCA(n_components=50).fit_transform(IBD_microbiome_scaled)\n",
    "\n",
    "plt.figure(figsize=(6, 6))\n",
    "p = sns.scatterplot(x=PCA_IBD[:, 0],\n",
    " y=PCA_IBD[:, 1], \n",
    " hue=IBD_microbiome[\"IBD_type\"])\n",
    "\n",
    "p.set_xlabel(\"PC1\")\n",
    "p.set_ylabel(\"PC2\")\n",
    "plt.show()"
   ]
  },
  {
   "cell_type": "code",
   "execution_count": null,
   "metadata": {},
   "outputs": [],
   "source": [
    "# make a dataframe with the 50 PCA components we have just computed\n",
    "PCA_IBD_df = pd.DataFrame(PCA_IBD)\n",
    "PCA_IBD_df"
   ]
  },
  {
   "cell_type": "code",
   "execution_count": null,
   "metadata": {},
   "outputs": [],
   "source": [
    "# use the 50 PCA components as input for tSNE\n",
    "tsne_embedding_PCA = TSNE(n_components=2, init='random', learning_rate=500, perplexity=25).fit_transform(PCA_IBD_df)    \n",
    "\n",
    "# plot the tSNE components - colour using different covariates\n",
    "fig, (ax1, ax2, ax3) = plt.subplots(1, 3, figsize=(15, 5))\n",
    "\n",
    "sns.scatterplot(x=tsne_embedding_PCA[:, 0], y=tsne_embedding_PCA[:, 1], hue=IBD_microbiome[\"IBD_type\"], ax=ax1)\n",
    "ax1.set_title(\"IBD status\")\n",
    "\n",
    "sns.scatterplot(x=tsne_embedding_PCA[:, 0], y=tsne_embedding_PCA[:, 1], hue=IBD_microbiome[\"Gender\"], ax=ax2)\n",
    "ax2.set_title(\"Gender\")\n",
    "\n",
    "IBD_microbiome['Age'] = IBD_microbiome['Age'].replace(\"na\", np.nan)\n",
    "sns.scatterplot(x=tsne_embedding_PCA[:, 0], y=tsne_embedding_PCA[:, 1], hue=IBD_microbiome[\"Age\"], ax=ax3, palette=\"viridis\")\n",
    "ax3.set_title(\"Age\")\n",
    "\n",
    "plt.tight_layout()\n",
    "plt.show()"
   ]
  },
  {
   "cell_type": "markdown",
   "metadata": {},
   "source": [
    "## Uniform Manifold Approximation & Projection (UMAP)\n",
    "Read the UMAP [documentation](https://umap-learn.readthedocs.io/en/latest/index.html) for an in-depth description of the method and the implementation. In the `umap-learn` package, UMAP is implemented via the `umap.UMAP()` class. Just like in sklearn, we use the `fit_transform()` function to project the embedding onto the data."
   ]
  },
  {
   "cell_type": "code",
   "execution_count": null,
   "metadata": {},
   "outputs": [],
   "source": [
    "# perform UMAP and project onto the scaled IBD data\n",
    "UMAP_embedding = umap.UMAP().fit_transform(IBD_microbiome_scaled)"
   ]
  },
  {
   "cell_type": "code",
   "execution_count": null,
   "metadata": {},
   "outputs": [],
   "source": [
    "# plot UMAP embedding\n",
    "plt.figure(figsize=(8, 8))\n",
    "p = sns.scatterplot(x=UMAP_embedding[:, 0],\n",
    " y=UMAP_embedding[:, 1], \n",
    " hue=IBD_microbiome[\"IBD_type\"], \n",
    " s=150, \n",
    " alpha=0.7)\n",
    "\n",
    "p.set_xlabel(\"Dim 1\")\n",
    "p.set_ylabel(\"Dim 2\")\n",
    "plt.title(\"UMAP embedding of IBD microbiome data\")\n",
    "\n",
    "plt.show()"
   ]
  },
  {
   "cell_type": "markdown",
   "metadata": {},
   "source": [
    "### UMAP parameters\n",
    "There are 4 key [parameters](https://umap-learn.readthedocs.io/en/latest/parameters.html) in UMAP (taken from UMAP website):\n",
    "1. `n_components`: Same as PCA, t-SNE, etc, allows you to decide the number of components to reduce the input data to.\n",
    "2. `n_neighbours`: This parameter controls how UMAP balances local versus global structure in the data. It does this by constraining the size of the local neighborhood UMAP will look at when attempting to learn the manifold structure of the data. This means that low values of n_neighbors will force UMAP to concentrate on very local structure (potentially to the detriment of the big picture), while large values will push UMAP to look at larger neighborhoods of each point when estimating the manifold structure of the data, losing fine detail structure for the sake of getting the broader of the data.\n",
    "3. `min_dist`: The min_dist parameter controls how tightly UMAP is allowed to pack points together. It, quite literally, provides the minimum distance apart that points are allowed to be in the low dimensional representation. This means that low values of min_dist will result in clumpier embeddings. This can be useful if you are interested in clustering, or in finer topological structure. Larger values of min_dist will prevent UMAP from packing points together and will focus on the preservation of the broad topological structure instead.\n",
    "4. `metric`: This controls how distance is computed in the ambient space of the input data. By default UMAP supports a wide variety of metrics, including Euclidean distance (see full [list](https://umap-learn.readthedocs.io/en/latest/parameters.html#metric)) as well as custom metrics. "
   ]
  },
  {
   "cell_type": "markdown",
   "metadata": {},
   "source": [
    "Let's look at these parameters in more detail:"
   ]
  },
  {
   "cell_type": "markdown",
   "metadata": {},
   "source": [
    "#### n_neighbours"
   ]
  },
  {
   "cell_type": "code",
   "execution_count": null,
   "metadata": {},
   "outputs": [],
   "source": [
    "fig, (ax1, ax2, ax3, ax4) = plt.subplots(1, 4, figsize=(15, 5))\n",
    "\n",
    "axs = [ax1, ax2, ax3, ax4]\n",
    "\n",
    "# set some  values we want to test\n",
    "n_neighbours_vals = [2, 25, 50, 200]\n",
    "\n",
    "# loop over each value and perform t-SNE with this value \n",
    "for ax, i in enumerate(n_neighbours_vals):\n",
    "    UMAP_embedding = umap.UMAP(n_components=2, n_neighbors=i).fit_transform(IBD_microbiome_scaled)\n",
    "\n",
    "    # plot the first two components using a scatterplot\n",
    "    sns.scatterplot(x=UMAP_embedding[:, 0], y=UMAP_embedding[:, 1], hue=IBD_microbiome[\"IBD_type\"], ax=axs[ax])\n",
    "    axs[ax].set_title(\"n_neighbours=\"+str(i))\n",
    "\n",
    "plt.tight_layout()\n",
    "plt.show()"
   ]
  },
  {
   "cell_type": "markdown",
   "metadata": {},
   "source": [
    "#### min_dist"
   ]
  },
  {
   "cell_type": "code",
   "execution_count": null,
   "metadata": {},
   "outputs": [],
   "source": [
    "fig, (ax1, ax2, ax3, ax4) = plt.subplots(1, 4, figsize=(15, 5))\n",
    "\n",
    "axs = [ax1, ax2, ax3, ax4]\n",
    "\n",
    "# set some  values we want to test\n",
    "min_dist_vals = [0, 0.1, 0.5, 0.99]\n",
    "\n",
    "# loop over each value and perform t-SNE with this value \n",
    "for ax, i in enumerate(min_dist_vals):\n",
    "    UMAP_embedding = umap.UMAP(n_components=2, min_dist=i).fit_transform(IBD_microbiome_scaled)\n",
    "\n",
    "    # plot the first two components using a scatterplot\n",
    "    sns.scatterplot(x=UMAP_embedding[:, 0], y=UMAP_embedding[:, 1], hue=IBD_microbiome[\"IBD_type\"], ax=axs[ax])\n",
    "    axs[ax].set_title(\"min_dist=\"+str(i))\n",
    "\n",
    "plt.tight_layout()\n",
    "plt.show()"
   ]
  },
  {
   "cell_type": "markdown",
   "metadata": {},
   "source": [
    "#### metric"
   ]
  },
  {
   "cell_type": "code",
   "execution_count": null,
   "metadata": {},
   "outputs": [],
   "source": [
    "fig, (ax1, ax2, ax3) = plt.subplots(1, 3, figsize=(15, 5))\n",
    "\n",
    "axs = [ax1, ax2, ax3]\n",
    "\n",
    "# set some  values we want to test\n",
    "metric_vals = [\"euclidean\", \"manhattan\", \"minkowski\"]\n",
    "\n",
    "# loop over each value and perform t-SNE with this value \n",
    "for ax, i in enumerate(metric_vals):\n",
    "    UMAP_embedding = umap.UMAP(n_components=2, metric=i).fit_transform(IBD_microbiome_scaled)\n",
    "\n",
    "    # plot the first two components using a scatterplot\n",
    "    sns.scatterplot(x=UMAP_embedding[:, 0], y=UMAP_embedding[:, 1], hue=IBD_microbiome[\"IBD_type\"], ax=axs[ax])\n",
    "    axs[ax].set_title(\"metric=\"+str(i))\n",
    "\n",
    "plt.tight_layout()\n",
    "plt.show()"
   ]
  },
  {
   "cell_type": "markdown",
   "metadata": {},
   "source": [
    "Try changing these parameters to obtain the best possible embedding on the data:\n",
    "\n",
    "You can also try colouring the plot by other covariates such as Age, or Gender, by changing the `hue` parameter in the plotting function."
   ]
  },
  {
   "cell_type": "code",
   "execution_count": null,
   "metadata": {},
   "outputs": [],
   "source": [
    "# change these parameters:\n",
    "UMAP_embedding = umap.UMAP(n_components=2, metric=\"minkowski\", n_neighbors=4, min_dist=0.7).fit_transform(IBD_microbiome_scaled)\n",
    "\n",
    "plt.figure(figsize=(8, 8))\n",
    "p = sns.scatterplot(x=UMAP_embedding[:, 0],\n",
    " y=UMAP_embedding[:, 1], \n",
    " hue=IBD_microbiome[\"IBD_type\"], # change this to colour points by other covariates\n",
    " s=150, \n",
    " alpha=0.7)\n",
    "\n",
    "p.set_xlabel(\"Dim 1\")\n",
    "p.set_ylabel(\"Dim 2\")\n",
    "\n",
    "plt.show()"
   ]
  },
  {
   "cell_type": "markdown",
   "metadata": {},
   "source": [
    "## Your turn\n",
    "\n",
    "Load in another dataset in the `Data` folder  and perform PCA, t-SNE and UMAP on it, visusalising the data using scatterplots as above. Tune the parameters as necessary. Which dimensionality reduction approach would you use for visualisation?"
   ]
  },
  {
   "cell_type": "code",
   "execution_count": null,
   "metadata": {},
   "outputs": [],
   "source": [
    "# Import dataset"
   ]
  },
  {
   "cell_type": "code",
   "execution_count": null,
   "metadata": {},
   "outputs": [],
   "source": [
    "# Scale the data"
   ]
  },
  {
   "cell_type": "code",
   "execution_count": null,
   "metadata": {},
   "outputs": [],
   "source": [
    "# Perform PCA\n",
    "\n",
    "# Visualise PCA"
   ]
  },
  {
   "cell_type": "code",
   "execution_count": null,
   "metadata": {},
   "outputs": [],
   "source": [
    "# Perform t-SNE\n",
    "\n",
    "# Visualise t-SNE"
   ]
  },
  {
   "cell_type": "code",
   "execution_count": null,
   "metadata": {},
   "outputs": [],
   "source": [
    "# Perform UMAP\n",
    "\n",
    "# Visualise UMAP"
   ]
  }
 ],
 "metadata": {
  "interpreter": {
   "hash": "b36f82fc6ec7da3c99303f5c6c1c64ad749da77112fc70d0beec9ca6a90b9819"
  },
  "kernelspec": {
   "display_name": "Python 3.10.0 ('py10')",
   "language": "python",
   "name": "python3"
  },
  "language_info": {
   "codemirror_mode": {
    "name": "ipython",
    "version": 3
   },
   "file_extension": ".py",
   "mimetype": "text/x-python",
   "name": "python",
   "nbconvert_exporter": "python",
   "pygments_lexer": "ipython3",
   "version": "3.10.0"
  },
  "orig_nbformat": 4
 },
 "nbformat": 4,
 "nbformat_minor": 2
}
